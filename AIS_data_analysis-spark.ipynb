{
 "cells": [
  {
   "cell_type": "code",
   "execution_count": 1,
   "metadata": {},
   "outputs": [],
   "source": [
    "#Run this cell to copy data to /shared-data folder - only need to run for the first time\n",
    "!mkdir -p /shared-data/datasets/AISdata\n",
    "!cp datasets/aisdk_20181102.csv /shared-data/datasets/AISdata"
   ]
  },
  {
   "cell_type": "code",
   "execution_count": 2,
   "metadata": {},
   "outputs": [],
   "source": [
    "import sys\n",
    "sys.path.insert(0, '/usr/local/spark/jars/samples.zip')\n",
    "sys.path.insert(0, '/usr/local/spark/jars/xgboost4j-spark_3.0-1.0.0-0.2.0.jar')\n",
    "sys.path.insert(0, '/usr/local/spark/jars/xgboost4j-1.0.0-0.2.0.jar')\n",
    "import warnings\n",
    "warnings.filterwarnings('ignore')"
   ]
  },
  {
   "cell_type": "code",
   "execution_count": 3,
   "metadata": {},
   "outputs": [],
   "source": [
    "from pyspark.sql import SparkSession\n",
    "from pyspark.ml.evaluation import RegressionEvaluator\n",
    "from pyspark.sql import SparkSession\n",
    "from pyspark.sql.types import FloatType, IntegerType, StructField, StructType\n",
    "from time import time\n",
    "\n",
    "spark = SparkSession.builder \\\n",
    "    .config('spark.executor.cores','1')\\\n",
    "    .config('driver-memory', '10G')\\\n",
    "    .getOrCreate()"
   ]
  },
  {
   "cell_type": "code",
   "execution_count": 4,
   "metadata": {},
   "outputs": [
    {
     "data": {
      "text/html": [
       "\n",
       "            <div>\n",
       "                <p><b>SparkSession - in-memory</b></p>\n",
       "                \n",
       "        <div>\n",
       "            <p><b>SparkContext</b></p>\n",
       "\n",
       "            <p><a href=\"http://10.233.104.101:4040\">Spark UI</a></p>\n",
       "\n",
       "            <dl>\n",
       "              <dt>Version</dt>\n",
       "                <dd><code>v3.0.1</code></dd>\n",
       "              <dt>Master</dt>\n",
       "                <dd><code>local</code></dd>\n",
       "              <dt>AppName</dt>\n",
       "                <dd><code>pyspark-shell</code></dd>\n",
       "            </dl>\n",
       "        </div>\n",
       "        \n",
       "            </div>\n",
       "        "
      ],
      "text/plain": [
       "<pyspark.sql.session.SparkSession at 0x7f64c5901ed0>"
      ]
     },
     "execution_count": 4,
     "metadata": {},
     "output_type": "execute_result"
    }
   ],
   "source": [
    "spark"
   ]
  },
  {
   "cell_type": "code",
   "execution_count": 6,
   "metadata": {},
   "outputs": [],
   "source": [
    "df = spark.read.option(\"header\",True) \\\n",
    "     .csv('/shared-data/datasets/AISdata/aisdk_20181102.csv')"
   ]
  },
  {
   "cell_type": "code",
   "execution_count": 7,
   "metadata": {
    "scrolled": true
   },
   "outputs": [
    {
     "name": "stdout",
     "output_type": "stream",
     "text": [
      "+------------+--------------+---------+---------+---------+--------------------+----+----+-----+-------+-------+--------+------------------+---------+----------+-----+------+------------------------------+-------+-----------+----+----------------+----+----+----+----+\n",
      "| # Timestamp|Type of mobile|     MMSI| Latitude|Longitude| Navigational status| ROT| SOG|  COG|Heading|    IMO|Callsign|              Name|Ship type|Cargo type|Width|Length|Type of position fixing device|Draught|Destination| ETA|Data source type|   A|   B|   C|   D|\n",
      "+------------+--------------+---------+---------+---------+--------------------+----+----+-----+-------+-------+--------+------------------+---------+----------+-----+------+------------------------------+-------+-----------+----+----------------+----+----+----+----+\n",
      "|2/11/18 0:00|       Class A|219001182| 55.82256|10.063892|Under way using e...|   0|   0|  272|    272|Unknown|    null|              null|Undefined|      null| null|  null|                     Undefined|   null|       null|null|             AIS|null|null|null|null|\n",
      "|2/11/18 0:00|       Class A|212963000| 58.27342|  10.9595|Under way using e...|   0|14.2|165.4|    166|Unknown|    null|              null|Undefined|      null| null|  null|                     Undefined|   null|       null|null|             AIS|null|null|null|null|\n",
      "|2/11/18 0:00|       Class A|220544000|57.118648| 8.595348|Under way using e...|   0|   0|306.9|     62|Unknown|    null|              null|Undefined|      null| null|  null|                     Undefined|   null|       null|null|             AIS|null|null|null|null|\n",
      "|2/11/18 0:00|       Class A|538005698|56.732973| 11.88574|Under way using e...|null|11.3|162.6|    166|Unknown|    null|              null|Undefined|      null| null|  null|                     Undefined|   null|       null|null|             AIS|null|null|null|null|\n",
      "|2/11/18 0:00|       Class A|311646000| 58.04611|10.192865|Under way using e...|   0|  14|250.1|    249|Unknown|    null|              null|Undefined|      null| null|  null|                     Undefined|   null|       null|null|             AIS|null|null|null|null|\n",
      "|2/11/18 0:00|       Class A|305691000| 57.36465|11.497867|Under way using e...|   0|14.4|337.5|    340|Unknown|    null|              null|Undefined|      null| null|  null|                     Undefined|   null|       null|null|             AIS|null|null|null|null|\n",
      "|2/11/18 0:00|       Class A|219613000|55.058633|    7.753|Under way using e...|   0| 0.1|185.4|    185|Unknown|    null|              null|Undefined|      null| null|  null|                     Undefined|   null|       null|null|             AIS|null|null|null|null|\n",
      "|2/11/18 0:00|       Class A|331665000|57.438033|  10.5533|Under way using e...|   0|   0|251.7|      3|Unknown|    null|              null|Undefined|      null| null|  null|                     Undefined|   null|       null|null|             AIS|null|null|null|null|\n",
      "|2/11/18 0:00|       Class A|219000881|54.933478|10.833343|       Unknown value|null|   0|273.8|   null|Unknown|    null|              null|Undefined|      null| null|  null|                     Undefined|   null|       null|null|             AIS|null|null|null|null|\n",
      "|2/11/18 0:00|       Class A|219001125|57.720577| 10.59491|  Engaged in fishing|   0|   0| null|    332|Unknown|    null|              null|Undefined|      null| null|  null|                     Undefined|   null|       null|null|             AIS|null|null|null|null|\n",
      "|2/11/18 0:00|       Class A|211912000|54.953867|13.580033|Under way using e...|   0|14.4|  247|    245|Unknown|    null|              null|Undefined|      null| null|  null|                     Undefined|   null|       null|null|             AIS|null|null|null|null|\n",
      "|2/11/18 0:00|       Class A|219244000|56.562065| 7.576608|Under way using e...|null|11.9|352.6|    349|Unknown|    null|              null|Undefined|      null| null|  null|                     Undefined|   null|       null|null|             AIS|null|null|null|null|\n",
      "|2/11/18 0:00|       Class A|211410690|57.718568|10.597268|   Under way sailing|   0|   0|  271|    319|Unknown|    null|              null|Undefined|      null| null|  null|                     Undefined|   null|       null|null|             AIS|null|null|null|null|\n",
      "|2/11/18 0:00|       Class A|219006113|       91|      181|       Unknown value|null|null| null|   null|Unknown|    null|FN 272 TINA MALENE|  Fishing|      null|    4|    14|                     Undefined|   null|    OSTERBY|null|             AIS|   3|  11|   2|   2|\n",
      "|2/11/18 0:00|       Class A|219022257|57.752878|10.844163|Under way using e...|null|23.7| 67.5|     69|Unknown|    null|              null|Undefined|      null| null|  null|                     Undefined|   null|       null|null|             AIS|null|null|null|null|\n",
      "|2/11/18 0:00|       Class A|219745000|57.721267|  10.5992|Under way using e...|   0|   0| 28.9|    324|Unknown|    null|              null|Undefined|      null| null|  null|                     Undefined|   null|       null|null|             AIS|null|null|null|null|\n",
      "|2/11/18 0:00|  Base Station|  2655021|58.357075|11.252868|       Unknown value|null|null| null|   null|Unknown|    null|              null|Undefined|      null| null|  null|                      Surveyed|   null|       null|null|             AIS|null|null|null|null|\n",
      "|2/11/18 0:00|       Class B|219022126|57.492433|10.503427|       Unknown value|null|   0|187.5|   null|Unknown|    null|              null|Undefined|      null| null|  null|                     Undefined|   null|       null|null|             AIS|null|null|null|null|\n",
      "|2/11/18 0:00|       Class A|219000407|57.296667|10.921467|Under way using e...|   0|   0|    0|    192|Unknown|    null|              null|Undefined|      null| null|  null|                     Undefined|   null|       null|null|             AIS|null|null|null|null|\n",
      "|2/11/18 0:00|       Class A|266467000|57.443833|10.762535|Under way using e...|   0|18.2|249.9|    250|Unknown|    null|              null|Undefined|      null| null|  null|                     Undefined|   null|       null|null|             AIS|null|null|null|null|\n",
      "+------------+--------------+---------+---------+---------+--------------------+----+----+-----+-------+-------+--------+------------------+---------+----------+-----+------+------------------------------+-------+-----------+----+----------------+----+----+----+----+\n",
      "only showing top 20 rows\n",
      "\n"
     ]
    }
   ],
   "source": [
    "df.show(20)"
   ]
  },
  {
   "cell_type": "code",
   "execution_count": 8,
   "metadata": {},
   "outputs": [],
   "source": [
    "MMSI_list = ['212963000','219000751','219015591','305837000','311646000']\n",
    "df=df.filter(df.MMSI.isin(MMSI_list)).withColumnRenamed('# Timestamp','Timestamp')"
   ]
  },
  {
   "cell_type": "code",
   "execution_count": 9,
   "metadata": {},
   "outputs": [
    {
     "name": "stdout",
     "output_type": "stream",
     "text": [
      "+---------+---------+\n",
      "| Latitude|Longitude|\n",
      "+---------+---------+\n",
      "| 58.27342|  10.9595|\n",
      "|58.273038|10.959695|\n",
      "|58.272593|10.959918|\n",
      "|58.272277|10.960082|\n",
      "|58.271895|10.960285|\n",
      "| 58.27145|10.960507|\n",
      "|58.271133| 10.96067|\n",
      "| 58.27069| 10.96089|\n",
      "|58.270312|10.961085|\n",
      "|58.269995|10.961245|\n",
      "+---------+---------+\n",
      "only showing top 10 rows\n",
      "\n"
     ]
    }
   ],
   "source": [
    "df_plot=df.filter(df.MMSI.isin(MMSI_list[0])).select('Latitude','Longitude')\n",
    "df_plot.show(10)"
   ]
  },
  {
   "cell_type": "code",
   "execution_count": 10,
   "metadata": {},
   "outputs": [],
   "source": [
    "df_simplified=df[['Timestamp','MMSI','Latitude','Longitude']]"
   ]
  },
  {
   "cell_type": "code",
   "execution_count": 11,
   "metadata": {
    "scrolled": true
   },
   "outputs": [
    {
     "name": "stdout",
     "output_type": "stream",
     "text": [
      "+------------+---------+---------+---------+\n",
      "|   Timestamp|     MMSI| Latitude|Longitude|\n",
      "+------------+---------+---------+---------+\n",
      "|2/11/18 0:00|212963000| 58.27342|  10.9595|\n",
      "|2/11/18 0:00|311646000| 58.04611|10.192865|\n",
      "|2/11/18 0:00|219000751|55.248292|14.836152|\n",
      "|2/11/18 0:00|305837000|54.597698|12.253178|\n",
      "|2/11/18 0:00|305837000|54.597563|12.253113|\n",
      "|2/11/18 0:00|305837000| 54.59743|12.253045|\n",
      "|2/11/18 0:00|212963000|58.273038|10.959695|\n",
      "|2/11/18 0:00|311646000|58.045953|10.192062|\n",
      "|2/11/18 0:00|305837000| 54.59723|12.252943|\n",
      "|2/11/18 0:00|219015591|57.213833|   9.6867|\n",
      "|2/11/18 0:00|305837000|54.597163| 12.25291|\n",
      "|2/11/18 0:00|219000751|55.248307| 14.83615|\n",
      "|2/11/18 0:00|305837000|54.597028|12.252842|\n",
      "|2/11/18 0:00|212963000|58.272593|10.959918|\n",
      "|2/11/18 0:00|305837000|54.596895|12.252775|\n",
      "|2/11/18 0:00|219000751|55.248307| 14.83615|\n",
      "|2/11/18 0:00|305837000|54.596762| 12.25271|\n",
      "|2/11/18 0:00|305837000|54.596627|12.252645|\n",
      "|2/11/18 0:00|212963000|58.272277|10.960082|\n",
      "|2/11/18 0:00|311646000|58.045707|10.190797|\n",
      "+------------+---------+---------+---------+\n",
      "only showing top 20 rows\n",
      "\n"
     ]
    }
   ],
   "source": [
    "df_simplified.show(20)"
   ]
  },
  {
   "cell_type": "code",
   "execution_count": 12,
   "metadata": {
    "scrolled": true
   },
   "outputs": [],
   "source": [
    "df_simplified.write.mode('overwrite').option(\"header\", \"true\").csv('/shared-data/datasets/AISdata/spark_results.csv')"
   ]
  },
  {
   "cell_type": "code",
   "execution_count": 13,
   "metadata": {},
   "outputs": [],
   "source": [
    "spark.stop()"
   ]
  }
 ],
 "metadata": {
  "kernelspec": {
   "display_name": "Python 3",
   "language": "python",
   "name": "python3"
  },
  "language_info": {
   "codemirror_mode": {
    "name": "ipython",
    "version": 3
   },
   "file_extension": ".py",
   "mimetype": "text/x-python",
   "name": "python",
   "nbconvert_exporter": "python",
   "pygments_lexer": "ipython3",
   "version": "3.7.8"
  }
 },
 "nbformat": 4,
 "nbformat_minor": 4
}
